{
 "cells": [
  {
   "cell_type": "code",
   "execution_count": 1,
   "metadata": {},
   "outputs": [],
   "source": [
    "from selenium import webdriver\n",
    "from selenium.webdriver.common.keys import Keys\n",
    "from selenium.webdriver.common.by import By\n",
    "from time import sleep\n",
    "import os\n",
    "from random import randint\n",
    "import pickle"
   ]
  },
  {
   "cell_type": "code",
   "execution_count": 2,
   "metadata": {},
   "outputs": [],
   "source": [
    "browser = webdriver.Chrome()\n",
    "browser.get('https://web.facebook.com/?_rdc=1&_rdr')\n",
    "sleep(randint(2,5))"
   ]
  },
  {
   "cell_type": "markdown",
   "metadata": {},
   "source": [
    "# Lấy user, pass của từng tài khoản"
   ]
  },
  {
   "cell_type": "code",
   "execution_count": 3,
   "metadata": {},
   "outputs": [],
   "source": [
    "accounts = []\n",
    "with open('user_password.txt', 'r') as file:\n",
    "    # Đọc các dòng từ file\n",
    "    lines = file.readlines()\n",
    "    for i in range(0, len(lines),3):\n",
    "         # Lấy username và password từ các dòng\n",
    "        username = lines[i+1] .strip() # strip() để loại bỏ khoảng trắng và ký tự xuống dòng\n",
    "        password = lines[i+2].strip()\n",
    "        accounts.append({'email': username, \"password\": password})\n"
   ]
  },
  {
   "cell_type": "code",
   "execution_count": 4,
   "metadata": {},
   "outputs": [],
   "source": [
    "user1 = accounts[0]['email']\n",
    "password1 = accounts[0]['password']"
   ]
  },
  {
   "cell_type": "markdown",
   "metadata": {},
   "source": [
    "# Truyền dữ liệu vào"
   ]
  },
  {
   "cell_type": "code",
   "execution_count": 5,
   "metadata": {},
   "outputs": [],
   "source": [
    "usertxt = browser.find_element(By.ID, 'email')\n",
    "usertxt.send_keys(user1)\n",
    "sleep(randint(1,3))\n",
    "passtxt = browser.find_element(By.NAME, 'pass')\n",
    "passtxt.send_keys(password1)\n",
    "sleep(randint(1,4))\n",
    "passtxt.send_keys(Keys.ENTER)"
   ]
  },
  {
   "cell_type": "markdown",
   "metadata": {},
   "source": [
    "# Lấy cookies để đăng nhập "
   ]
  },
  {
   "cell_type": "code",
   "execution_count": 6,
   "metadata": {},
   "outputs": [],
   "source": [
    "pickle.dump(browser.get_cookies(), open('FB_cookies.pkl', 'wb'))\n",
    "browser.quit()"
   ]
  }
 ],
 "metadata": {
  "kernelspec": {
   "display_name": "meow_meow",
   "language": "python",
   "name": "python3"
  },
  "language_info": {
   "codemirror_mode": {
    "name": "ipython",
    "version": 3
   },
   "file_extension": ".py",
   "mimetype": "text/x-python",
   "name": "python",
   "nbconvert_exporter": "python",
   "pygments_lexer": "ipython3",
   "version": "3.10.14"
  }
 },
 "nbformat": 4,
 "nbformat_minor": 2
}
